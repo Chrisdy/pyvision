{
 "metadata": {
  "name": "Matrix Operations"
 }, 
 "nbformat": 2, 
 "worksheets": [
  {
   "cells": [
    {
     "cell_type": "markdown", 
     "source": [
      "Matrix Operations Demonstration", 
      "===============================", 
      "With the iPython notebook and pylab support, we have a very nice interactive shell for scientific computing.", 
      "", 
      "The ipython **notebook** lets you mix rich text including equations, computation, and graphics into a single working document. You can easily revise", 
      "computational steps without having to re-run an entire script. Notebooks can be saved and reloaded, printed,", 
      "and accessed remotely.", 
      "", 
      "Example equation: `$X = \\sum_{i=1}^{n}i^2$` produces: $X = \\sum_{i=1}^{n}i^2$", 
      "", 
      "**Pylab** is the name given to a common collection of python scientific computation and plotting libraries,", 
      "imported into a common namespace to be more user friendly when used interactively. Pylab imports numpy and", 
      "matplotlib, a MATLAB-like plotting library.", 
      "", 
      "Invoked via the command line as: `ipython notebook --pylab inline`", 
      "", 
      "Rich text is provided using the \"markdown\" syntax.", 
      "For information on markdown, see http://en.wikipedia.org/wiki/Markdown."
     ]
    }, 
    {
     "cell_type": "code", 
     "collapsed": false, 
     "input": [
      "A = zeros((4,4))", 
      "I = eye(4)", 
      "print \"A=\",A, \"\\nI=\", I"
     ], 
     "language": "python", 
     "outputs": [
      {
       "output_type": "stream", 
       "stream": "stdout", 
       "text": [
        "A= [[ 0.  0.  0.  0.  0.]", 
        " [ 0.  0.  0.  0.  0.]", 
        " [ 0.  0.  0.  0.  0.]", 
        " [ 0.  0.  0.  0.  0.]", 
        " [ 0.  0.  0.  0.  0.]] ", 
        "I= [[ 1.  0.  0.  0.]", 
        " [ 0.  1.  0.  0.]", 
        " [ 0.  0.  1.  0.]", 
        " [ 0.  0.  0.  1.]]"
       ]
      }
     ], 
     "prompt_number": 1
    }, 
    {
     "cell_type": "markdown", 
     "source": [
      "When using pylab, many common MATLAB-like functions exist in our default namespace.", 
      "A good resource for those coming to python from MATLAB is", 
      "[http://www.scipy.org/NumPy_for_Matlab_Users](http://www.scipy.org/NumPy_for_Matlab_Users \"NumPy for MATLAB Users\")."
     ]
    }, 
    {
     "cell_type": "code", 
     "collapsed": false, 
     "input": [
      "N = randn(4,4)", 
      "N"
     ], 
     "language": "python", 
     "outputs": [
      {
       "output_type": "pyout", 
       "prompt_number": 2, 
       "text": [
        "array([[-1.52003199, -2.41335279, -1.52877283,  0.4130149 ],", 
        "       [ 1.5256533 , -0.79760124, -0.49890665, -0.05886346],", 
        "       [-0.97189521, -0.30330939,  0.95102109,  1.79742995],", 
        "       [ 0.12859725,  1.1973515 ,  1.71254363, -2.04232106]])"
       ]
      }
     ], 
     "prompt_number": 2
    }, 
    {
     "cell_type": "markdown", 
     "source": [
      "Note the data type is a numpy multidimensional array. </br>", 
      "Addition and scalar multiplication on arrays work as expected."
     ]
    }, 
    {
     "cell_type": "code", 
     "collapsed": false, 
     "input": [
      "N+4*I"
     ], 
     "language": "python", 
     "outputs": [
      {
       "output_type": "pyout", 
       "prompt_number": 3, 
       "text": [
        "array([[ 2.47996801, -2.41335279, -1.52877283,  0.4130149 ],", 
        "       [ 1.5256533 ,  3.20239876, -0.49890665, -0.05886346],", 
        "       [-0.97189521, -0.30330939,  4.95102109,  1.79742995],", 
        "       [ 0.12859725,  1.1973515 ,  1.71254363,  1.95767894]])"
       ]
      }
     ], 
     "prompt_number": 3
    }, 
    {
     "cell_type": "markdown", 
     "source": [
      "The * operator between **arrays** performs component-wise multiplication.", 
      "For matrix multiplication, use `dot(X,Y)` instead."
     ]
    }, 
    {
     "cell_type": "code", 
     "collapsed": false, 
     "input": [
      "print N*I #array component mult.", 
      "print ", 
      "print dot(N,I) #matrix mult. using arrays"
     ], 
     "language": "python", 
     "outputs": [
      {
       "output_type": "stream", 
       "stream": "stdout", 
       "text": [
        "[[-1.52003199 -0.         -0.          0.        ]", 
        " [ 0.         -0.79760124 -0.         -0.        ]", 
        " [-0.         -0.          0.95102109  0.        ]", 
        " [ 0.          0.          0.         -2.04232106]]", 
        "", 
        "[[-1.52003199 -2.41335279 -1.52877283  0.4130149 ]", 
        " [ 1.5256533  -0.79760124 -0.49890665 -0.05886346]", 
        " [-0.97189521 -0.30330939  0.95102109  1.79742995]", 
        " [ 0.12859725  1.1973515   1.71254363 -2.04232106]]"
       ]
      }
     ], 
     "prompt_number": 4
    }, 
    {
     "cell_type": "markdown", 
     "source": [
      "There is also a **matrix** data type. </br>", 
      "The multiplication operator * performs matrix multiplication,", 
      "and the multiply(X,Y) performs component-wise multiplication."
     ]
    }, 
    {
     "cell_type": "code", 
     "collapsed": false, 
     "input": [
      "N2 = matrix(N)", 
      "I2 = matrix(I)", 
      "print N2 * I2 #matrix mult", 
      "print", 
      "print multiply(N2,I2) #component mult"
     ], 
     "language": "python", 
     "outputs": [
      {
       "output_type": "stream", 
       "stream": "stdout", 
       "text": [
        "[[-1.52003199 -2.41335279 -1.52877283  0.4130149 ]", 
        " [ 1.5256533  -0.79760124 -0.49890665 -0.05886346]", 
        " [-0.97189521 -0.30330939  0.95102109  1.79742995]", 
        " [ 0.12859725  1.1973515   1.71254363 -2.04232106]]", 
        "", 
        "[[-1.52003199 -0.         -0.          0.        ]", 
        " [ 0.         -0.79760124 -0.         -0.        ]", 
        " [-0.         -0.          0.95102109  0.        ]", 
        " [ 0.          0.          0.         -2.04232106]]"
       ]
      }
     ], 
     "prompt_number": 5
    }, 
    {
     "cell_type": "markdown", 
     "source": [
      "With PyLab, we can easily call the scipy linear algebra functions normally", 
      "found in scipy.linalg package.</br> (See: http://docs.scipy.org/doc/scipy/reference/linalg.html)"
     ]
    }, 
    {
     "cell_type": "code", 
     "collapsed": false, 
     "input": [
      "(evs, evecs) = eig(N) #if input is ndarray, output is too.", 
      "(evs2, evecs2) = eig(N2)  #if input is matrix, output is matrix", 
      "print type(evecs), type(evecs2)"
     ], 
     "language": "python", 
     "outputs": [
      {
       "output_type": "stream", 
       "stream": "stdout", 
       "text": [
        "&lt;type &apos;numpy.ndarray&apos;&gt; &lt;class &apos;numpy.matrixlib.defmatrix.matrix&apos;&gt;"
       ]
      }
     ], 
     "prompt_number": 6
    }, 
    {
     "cell_type": "code", 
     "collapsed": true, 
     "input": [
      "#if not using pylab, do the following", 
      "import scipy.linalg as LA ", 
      "(evs, evecs) = LA.eig(N)"
     ], 
     "language": "python", 
     "outputs": [], 
     "prompt_number": 7
    }, 
    {
     "cell_type": "markdown", 
     "source": [
      "We can do some easy MATLAB-like plotting too!"
     ]
    }, 
    {
     "cell_type": "code", 
     "collapsed": false, 
     "input": [
      "X = randn(1000)", 
      "hist(X)"
     ], 
     "language": "python", 
     "outputs": [
      {
       "output_type": "pyout", 
       "prompt_number": 8, 
       "text": [
        "(array([  5,  23,  74, 182, 248, 224, 149,  73,  21,   1]),", 
        " array([-3.21676376, -2.56508626, -1.91340876, -1.26173127, -0.61005377,", 
        "        0.04162373,  0.69330122,  1.34497872,  1.99665622,  2.64833371,", 
        "        3.30001121]),", 
        " &lt;a list of 10 Patch objects&gt;)"
       ]
      }, 
      {
       "output_type": "display_data", 
       "png": "[encoded data removed]"
      }
     ], 
     "prompt_number": 8
    }, 
    {
     "cell_type": "code", 
     "collapsed": false, 
     "input": [
      "Y = 3*X", 
      "plot(X,Y)"
     ], 
     "language": "python", 
     "outputs": [
      {
       "output_type": "pyout", 
       "prompt_number": 9, 
       "text": [
        "[&lt;matplotlib.lines.Line2D at 0x10b136310&gt;]"
       ]
      }, 
      {
       "output_type": "display_data", 
       "png": "[encoded data removed]"
      }
     ], 
     "prompt_number": 9
    }, 
    {
     "cell_type": "code", 
     "collapsed": true, 
     "input": [], 
     "language": "python", 
     "outputs": [], 
     "prompt_number": 9
    }
   ]
  }
 ]
}