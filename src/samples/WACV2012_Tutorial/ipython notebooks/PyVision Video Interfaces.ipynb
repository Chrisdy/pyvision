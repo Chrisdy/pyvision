{
 "metadata": {
  "name": "PyVision Video Interfaces"
 }, 
 "nbformat": 2, 
 "worksheets": [
  {
   "cells": [
    {
     "cell_type": "markdown", 
     "source": [
      "PyVision Video Interface Demonstration", 
      "==========", 
      "", 
      "Demonstration of the various video classes", 
      "and common interfaces for controlling and", 
      "viewing output."
     ]
    }, 
    {
     "cell_type": "code", 
     "collapsed": true, 
     "input": [
      "import pyvision as pv"
     ], 
     "language": "python", 
     "outputs": [], 
     "prompt_number": 1
    }, 
    {
     "cell_type": "code", 
     "collapsed": false, 
     "input": [
      "vid_file = pv.TAZ_VIDEO  #built-in sample video in PyVision", 
      "vid = pv.Video(vid_file)", 
      "type(vid)"
     ], 
     "language": "python", 
     "outputs": [], 
     "prompt_number": 2
    }, 
    {
     "cell_type": "markdown", 
     "source": [
      "A video is an iterable object. You can play a video in two easy ways.", 
      "", 
      "- By iterating over the frames, displaying each to the same window.", 
      "", 
      "- The second is by using the built-in play() method, which comes with some nifty features."
     ]
    }, 
    {
     "cell_type": "code", 
     "collapsed": false, 
     "input": [
      "for f in vid:", 
      "    f.show(delay=33, window=\"Demo\")  #delay is ms to pause before next image is shown.", 
      "", 
      "vid.play(delay=33, window=\"Demo\")  #33 millisec delay is about 30 fps."
     ], 
     "language": "python", 
     "outputs": [], 
     "prompt_number": 3
    }, 
    {
     "cell_type": "markdown", 
     "source": [
      "The *play()* method allows the user to pause-and-play the video,", 
      "step through frames, or abort early. It also annotates the frame", 
      "number in the upper left, and can call a callback function.", 
      "", 
      "The video will start paused if delay=0, so the user should highlight", 
      "the playback window and press the \"s\" key to step to the next frame.", 
      "When doing so, the iPython Notebook will display the text menu for", 
      "the pause-and-play interface."
     ]
    }, 
    {
     "cell_type": "code", 
     "collapsed": false, 
     "input": [
      "vid.play(delay=0, window=\"Demo\")"
     ], 
     "language": "python", 
     "outputs": [], 
     "prompt_number": 4
    }, 
    {
     "cell_type": "markdown", 
     "source": [
      "A **VideoMontage** is a set of videos that can be played at once in the same screen.", 
      "We use a dictionary as the collection of videos, which are sorted based on the keys.", 
      "All videos will play until completion. Shorter videos will halt on the last frame until the others finish."
     ]
    }, 
    {
     "cell_type": "code", 
     "collapsed": false, 
     "input": [
      "import os", 
      "test_dir = os.path.dirname(vid_file)  #in the same directory as the TAZ video there are two others", 
      "vid_cars = pv.Video( os.path.join(test_dir,\"toy_car.m4v\"))  #toy cars on a carpet", 
      "vid_bug = pv.Video( os.path.join(test_dir,\"BugsSample.m4v\")) #a bug in grass", 
      "vid_taz = pv.Video(vid_file) #taz video", 
      "videoM = pv.VideoMontage( {1:vid_cars, 2:vid_bug, 3:vid_taz}, layout=(1,3), tileSize=(200,200))", 
      "videoM.play(delay=33, window=\"Demo\")"
     ], 
     "language": "python", 
     "outputs": [], 
     "prompt_number": 5
    }, 
    {
     "cell_type": "markdown", 
     "source": [
      "A VideoMontage object can be treated itself like a video, and thus embedded in another montage."
     ]
    }, 
    {
     "cell_type": "code", 
     "collapsed": false, 
     "input": [
      "vid1 = pv.Video(vid_file)", 
      "vid2 = pv.Video(vid_file)", 
      "vid3 = pv.Video(vid_file)", 
      "videoM1 = pv.VideoMontage( {1:vid1, 2:vid2}, layout=(2,1), tileSize=(133,100))", 
      "videoM2 = pv.VideoMontage( {1:videoM1, 2:vid3}, layout=(1,2), tileSize=(266,200)) #a montage within a montage", 
      "videoM2.play(delay=33, window=\"Demo\")"
     ], 
     "language": "python", 
     "outputs": [], 
     "prompt_number": 6
    }, 
    {
     "cell_type": "markdown", 
     "source": [
      "---", 
      "", 
      "There is an abstract **VideoInterface** class that defines the `play()` method,", 
      "the pause-and-play interface, and represents videos as iterables.", 
      "", 
      "The following classes all implement the VideoInterface:", 
      "", 
      "* Video", 
      "* VideoMontage", 
      "* VideoFromImages     - For using a directory of images as a video", 
      "* VideoFromFileList   - For using a list of image file names for a video", 
      "* VideoFromImageStack - For using a stack of numpy arrays as a video", 
      "* Webcam"
     ]
    }, 
    {
     "cell_type": "code", 
     "collapsed": false, 
     "input": [
      "vid = pv.Webcam()", 
      "vid.play(window=\"Demo\", delay=30)"
     ], 
     "language": "python", 
     "outputs": [], 
     "prompt_number": 7
    }, 
    {
     "cell_type": "markdown", 
     "source": [
      "**ImageBuffer** is a useful class for buffering a set of pyvision images.", 
      "ImageBuffers can be used to buffer video playback, to transform a set", 
      "of grayscale images into an image stack, among other uses."
     ]
    }, 
    {
     "cell_type": "code", 
     "collapsed": false, 
     "input": [
      "import pyvision as pv", 
      "import cv", 
      "", 
      "imgBuffer = pv.ImageBuffer(N=25)", 
      "vid = pv.Video(\"./seq3.avi\")", 
      "vid.play(window=\"Demo\",delay=20,imageBuffer=imgBuffer)  #play() method supports a buffer"
     ], 
     "language": "python", 
     "outputs": [], 
     "prompt_number": 19
    }, 
    {
     "cell_type": "code", 
     "collapsed": true, 
     "input": [
      "#the most recent images will be in the buffer", 
      "imgBuffer.show(window=\"Demo\", delay=0) #simple way to view buffer", 
      "cv.DestroyWindow(\"Demo\")  #kill the window if we don't need it anymore"
     ], 
     "language": "python", 
     "outputs": [], 
     "prompt_number": 21
    }, 
    {
     "cell_type": "code", 
     "collapsed": true, 
     "input": [
      "#use an image montage if you want greater layout control", 
      "montage = imgBuffer.asMontage(layout=(3,5))", 
      "montage.show(window=\"Demo\")", 
      "cv.DestroyWindow(\"Demo\")"
     ], 
     "language": "python", 
     "outputs": [], 
     "prompt_number": 22
    }, 
    {
     "cell_type": "markdown", 
     "source": [
      "We can convert an ImageBuffer to a 3D numpy array representing a \"stack\" of grayscale images.", 
      "This can be convenient for performing numpy matrix operations on all images in the stack."
     ]
    }, 
    {
     "cell_type": "code", 
     "collapsed": false, 
     "input": [
      "#we can convert the buffer to an numpy grayscale image stack", 
      "(w,h) = imgBuffer[0].size ", 
      "imstack = imgBuffer.asStackBW(size=(w/2, h/2))", 
      "print type(imstack)", 
      "vid2 = pv.VideoFromImageStack(imstack)  #we can playback an image stack as a video", 
      "vid2.play(window=\"Demo\", delay=0)"
     ], 
     "language": "python", 
     "outputs": [], 
     "prompt_number": 23
    }, 
    {
     "cell_type": "code", 
     "collapsed": false, 
     "input": [
      "#because an image stack is a numpy array, operations like thresholding all", 
      "# images in the grayscale video is very easy.", 
      "imstack2 = (imstack < 100)*255.0", 
      "vid3 = pv.VideoFromImageStack(imstack2)", 
      "vid3.play(window=\"Demo\", delay=0)"
     ], 
     "language": "python", 
     "outputs": [], 
     "prompt_number": 24
    }, 
    {
     "cell_type": "code", 
     "collapsed": true, 
     "input": [
      "cv.DestroyAllWindows()"
     ], 
     "language": "python", 
     "outputs": [], 
     "prompt_number": 13
    }, 
    {
     "cell_type": "code", 
     "collapsed": true, 
     "input": [], 
     "language": "python", 
     "outputs": [], 
     "prompt_number": 13
    }
   ]
  }
 ]
}